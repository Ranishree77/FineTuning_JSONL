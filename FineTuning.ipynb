{
 "cells": [
  {
   "cell_type": "code",
   "execution_count": null,
   "metadata": {
    "id": "x_egTHxwC2CO"
   },
   "outputs": [],
   "source": []
  },
  {
   "cell_type": "code",
   "execution_count": 21,
   "metadata": {
    "colab": {
     "base_uri": "https://localhost:8080/"
    },
    "id": "jAQCLiAcY9To",
    "outputId": "49a21d21-df79-4880-ad3f-b5b120c0d860"
   },
   "outputs": [
    {
     "name": "stdout",
     "output_type": "stream",
     "text": [
      "Transformation complete. Output saved to transformed_data.jsonl\n"
     ]
    }
   ],
   "source": [
    "import json\n",
    "\n",
    "# Input and output file paths\n",
    "input_file_path = \"data.jsonl\"\n",
    "output_file_path = \"transformed_data.jsonl\"\n",
    "\n",
    "# System message to be added\n",
    "system_message = {\"role\": \"system\", \"content\": \"You are a helpful assistant.\"}\n",
    "\n",
    "# Read and transform the data\n",
    "with open(input_file_path, 'r') as infile, open(output_file_path, 'w') as outfile:\n",
    "    for line in infile:\n",
    "        # Skip empty lines\n",
    "        if not line.strip():\n",
    "            continue\n",
    "        try:\n",
    "            # Load each JSON object\n",
    "            data = json.loads(line.strip())\n",
    "\n",
    "            # Create the new format\n",
    "            transformed_data = {\n",
    "                \"messages\": [\n",
    "                    system_message,\n",
    "                    {\"role\": \"user\", \"content\": data['prompt']},\n",
    "                    {\"role\": \"assistant\", \"content\": data['completion']}\n",
    "                ]\n",
    "            }\n",
    "\n",
    "            # Write the transformed data to the output file\n",
    "            json.dump(transformed_data, outfile)\n",
    "            outfile.write('\\n')\n",
    "        except json.JSONDecodeError as e:\n",
    "            print(f\"Skipping invalid JSON line: {line.strip()} (Error: {e})\")\n",
    "\n",
    "print(\"Transformation complete. Output saved to\", output_file_path)\n"
   ]
  },
  {
   "cell_type": "code",
   "execution_count": 22,
   "metadata": {
    "id": "UF8DUxMkZQUA"
   },
   "outputs": [],
   "source": [
    "from openai import OpenAI"
   ]
  },
  {
   "cell_type": "code",
   "execution_count": 23,
   "metadata": {
    "id": "UEIrjSueZVxB"
   },
   "outputs": [],
   "source": [
    "client = OpenAI()"
   ]
  },
  {
   "cell_type": "code",
   "execution_count": 24,
   "metadata": {
    "colab": {
     "base_uri": "https://localhost:8080/"
    },
    "id": "1ZdIqWWtZV0j",
    "outputId": "7d021619-c4c5-425a-c699-f146faba08a5"
   },
   "outputs": [
    {
     "data": {
      "text/plain": [
       "FileObject(id='file-MczA3dMybRO0jZjhcsqzo9zD', bytes=4519, created_at=1732156160, filename='transformed_data.jsonl', object='file', purpose='fine-tune', status='processed', status_details=None)"
      ]
     },
     "execution_count": 24,
     "metadata": {},
     "output_type": "execute_result"
    }
   ],
   "source": [
    "client.files.create(file=open(\"transformed_data.jsonl\",\"rb\"),purpose='fine-tune')"
   ]
  },
  {
   "cell_type": "code",
   "execution_count": 25,
   "metadata": {
    "id": "6HRczKxKZb4T"
   },
   "outputs": [],
   "source": [
    "files = client.files.list()"
   ]
  },
  {
   "cell_type": "code",
   "execution_count": 26,
   "metadata": {
    "colab": {
     "base_uri": "https://localhost:8080/"
    },
    "id": "HeeF9sQ2ZhNX",
    "outputId": "abc0d236-a5be-4e49-e307-97da37d7083c"
   },
   "outputs": [
    {
     "name": "stdout",
     "output_type": "stream",
     "text": [
      "FileObject(id='file-MczA3dMybRO0jZjhcsqzo9zD', bytes=4519, created_at=1732156160, filename='transformed_data.jsonl', object='file', purpose='fine-tune', status='processed', status_details=None)\n",
      "FileObject(id='file-JdVhcoArRfFkjWUPmCSCCb8x', bytes=1682, created_at=1732155872, filename='data.jsonl', object='file', purpose='fine-tune', status='processed', status_details=None)\n",
      "FileObject(id='file-hW8wtyH5r4sb5xPt7odlzeJ1', bytes=4519, created_at=1732153551, filename='transformed_data.jsonl', object='file', purpose='fine-tune', status='processed', status_details=None)\n",
      "FileObject(id='file-vzee8uhIOM68WHj0fQ1VX306', bytes=34512, created_at=1732151233, filename='step_metrics.csv', object='file', purpose='fine-tune-results', status='processed', status_details=None)\n",
      "FileObject(id='file-RAG6vasOGHGFZdiIRQJVNaqO', bytes=34536, created_at=1732150929, filename='step_metrics.csv', object='file', purpose='fine-tune-results', status='processed', status_details=None)\n",
      "FileObject(id='file-eF6VBNUzgTxryC1TusBQXKjn', bytes=34760, created_at=1732150907, filename='step_metrics.csv', object='file', purpose='fine-tune-results', status='processed', status_details=None)\n",
      "FileObject(id='file-1kz7nMaZiqN74z3VH6GHig1o', bytes=618084, created_at=1732149989, filename='drug_malady_data_transformed.jsonl', object='file', purpose='fine-tune', status='processed', status_details=None)\n",
      "FileObject(id='file-vVs5Y5Vwa0uPRHoVeQ6sJfKM', bytes=620084, created_at=1732148518, filename='drug_malady_data_transformed.jsonl', object='file', purpose='fine-tune', status='processed', status_details=None)\n",
      "FileObject(id='file-ryiKKt9M30eGvKJq1SYHTcYU', bytes=618084, created_at=1732148086, filename='drug_malady_data_transformed.jsonl', object='file', purpose='fine-tune', status='processed', status_details=None)\n",
      "FileObject(id='file-FIYnkNVElFLi6EuQOMnQTPUs', bytes=32007, created_at=1732062809, filename='drug_malady_data_prepared_valid.jsonl', object='file', purpose='fine-tune', status='processed', status_details=None)\n",
      "FileObject(id='file-fn6Mx2GUCP0QbBmzfo3XwrmA', bytes=128249, created_at=1732062807, filename='drug_malady_data_prepared_train.jsonl', object='file', purpose='fine-tune', status='processed', status_details=None)\n",
      "FileObject(id='file-6ai9WtbDWWttFNrZoXKN5J8Y', bytes=128249, created_at=1732062703, filename='drug_malady_data_prepared_train.jsonl', object='file', purpose='fine-tune', status='processed', status_details=None)\n",
      "FileObject(id='file-eJRGsqEWPt1oSNJgXZcOWZN1', bytes=32007, created_at=1732061682, filename='file', object='file', purpose='fine-tune', status='processed', status_details=None)\n",
      "FileObject(id='file-4K4sutYH5X95m0V4haNbuA7F', bytes=128249, created_at=1732061682, filename='file', object='file', purpose='fine-tune', status='processed', status_details=None)\n",
      "FileObject(id='file-0H9boLNO2FjJ5OnyKX0PkvKi', bytes=32007, created_at=1732061192, filename='file', object='file', purpose='fine-tune', status='processed', status_details=None)\n",
      "FileObject(id='file-Mj77puTqsVfcqhUTC4UhkPN3', bytes=128249, created_at=1732061192, filename='file', object='file', purpose='fine-tune', status='processed', status_details=None)\n"
     ]
    }
   ],
   "source": [
    "for file in files.data:\n",
    "  print(file)"
   ]
  },
  {
   "cell_type": "code",
   "execution_count": 27,
   "metadata": {
    "id": "nySD6XhDZkZP"
   },
   "outputs": [],
   "source": [
    "for file in files.data:\n",
    "  if file.filename == 'transformed_data.jsonl':\n",
    "    training_file_id = file.id"
   ]
  },
  {
   "cell_type": "code",
   "execution_count": 28,
   "metadata": {
    "colab": {
     "base_uri": "https://localhost:8080/"
    },
    "id": "3QVNtrm3Znw-",
    "outputId": "1235d5a3-3a19-4844-8a82-8ffc6ef61ec3"
   },
   "outputs": [
    {
     "data": {
      "text/plain": [
       "FineTuningJob(id='ftjob-nz3nDhn6O0XafJTAAISRQylq', created_at=1732156185, error=Error(code=None, message=None, param=None), fine_tuned_model=None, finished_at=None, hyperparameters=Hyperparameters(n_epochs='auto', batch_size='auto', learning_rate_multiplier='auto'), model='gpt-3.5-turbo-0125', object='fine_tuning.job', organization_id='org-KxV99padaMMP1o5sAbJTr0mG', result_files=[], seed=1941959223, status='validating_files', trained_tokens=None, training_file='file-hW8wtyH5r4sb5xPt7odlzeJ1', validation_file=None, estimated_finish=None, integrations=[], user_provided_suffix=None)"
      ]
     },
     "execution_count": 28,
     "metadata": {},
     "output_type": "execute_result"
    }
   ],
   "source": [
    "client.fine_tuning.jobs.create(\n",
    "    training_file=training_file_id,\n",
    "    model=\"gpt-3.5-turbo\"\n",
    ")"
   ]
  },
  {
   "cell_type": "code",
   "execution_count": 29,
   "metadata": {
    "id": "6MtCsc7rjqcV"
   },
   "outputs": [],
   "source": [
    "jobs=client.fine_tuning.jobs.list()"
   ]
  },
  {
   "cell_type": "code",
   "execution_count": 30,
   "metadata": {
    "colab": {
     "base_uri": "https://localhost:8080/"
    },
    "id": "s31wQ2TXjunZ",
    "outputId": "33b02bac-60d1-4fc6-d694-8ce6ae18f4d2"
   },
   "outputs": [
    {
     "data": {
      "text/plain": [
       "FineTuningJob(id='ftjob-nz3nDhn6O0XafJTAAISRQylq', created_at=1732156185, error=Error(code=None, message=None, param=None), fine_tuned_model=None, finished_at=None, hyperparameters=Hyperparameters(n_epochs=6, batch_size=1, learning_rate_multiplier=2), model='gpt-3.5-turbo-0125', object='fine_tuning.job', organization_id='org-KxV99padaMMP1o5sAbJTr0mG', result_files=[], seed=1941959223, status='running', trained_tokens=None, training_file='file-hW8wtyH5r4sb5xPt7odlzeJ1', validation_file=None, estimated_finish=None, integrations=[], user_provided_suffix=None)"
      ]
     },
     "execution_count": 30,
     "metadata": {},
     "output_type": "execute_result"
    }
   ],
   "source": [
    "client.fine_tuning.jobs.retrieve('ftjob-nz3nDhn6O0XafJTAAISRQylq')"
   ]
  },
  {
   "cell_type": "code",
   "execution_count": 31,
   "metadata": {
    "colab": {
     "base_uri": "https://localhost:8080/"
    },
    "id": "hKu6MlMHj6Q5",
    "outputId": "5c3f12fc-6e84-4425-f40b-1ead07d9b6f2"
   },
   "outputs": [
    {
     "name": "stdout",
     "output_type": "stream",
     "text": [
      "Prompt: Q: How do I change the air filter in the HVAC system?\n",
      "A:\n",
      "Q: How do I change the air filter in the HVAC system?\n",
      "A: Turn off the HVAC system, remove the old filter from the filter slot, and replace it with a new one. Make sure it fits properly.\n",
      "--------------------------------------------------\n",
      "Prompt: Q: What is the password for the guest Wi-Fi?\n",
      "A:\n",
      "Q: What is the password for the guest Wi-Fi?\n",
      "A: Check the card next to the router for the Wi-Fi password.\n",
      "--------------------------------------------------\n",
      "Prompt: Q: How can I remove pet hair from the couch?\n",
      "A:\n",
      "Q: How can I remove pet hair from the couch?\n",
      "A: Use a lint roller or a damp rubber glove to gently wipe off the pet hair from the fabric.\n",
      "--------------------------------------------------\n",
      "Prompt: Q: Where are the spare lightbulbs?\n",
      "A:\n",
      "Q: Where are the spare lightbulbs?\n",
      "A: In the drawer in the hallway closet, on the left side.\n",
      "--------------------------------------------------\n",
      "Prompt: Q: How do I change the batteries in the remote?\n",
      "A:\n",
      "Q: How do I change the batteries in the remote?\n",
      "A: Open the battery compartment on the back of the remote, remove the old batteries, and insert the new ones with the correct polarity.\n",
      "--------------------------------------------------\n",
      "Prompt: Q: Where can I find the first aid kit?\n",
      "A:\n",
      "Q: Where can I find the first aid kit?\n",
      "A: The first aid kit is in the hallway closet, in the top left corner.\n",
      "--------------------------------------------------\n",
      "Prompt: Q: What time does the local grocery store close?\n",
      "A:\n",
      "Q: What time does the local grocery store close?\n",
      "A: The grocery store closes at 9 PM on weekdays.\n",
      "--------------------------------------------------\n",
      "Prompt: Q: How do I clean the oven?\n",
      "A:\n",
      "Q: How do I clean the oven?\n",
      "A: Remove the racks, spray the inside with oven cleaner, and let it sit before scrubbing with a sponge. Wipe off with a damp cloth.\n",
      "--------------------------------------------------\n",
      "Prompt: Q: How do I adjust the height of the office chair?\n",
      "A:\n",
      "Q: How do I adjust the height of the office chair?\n",
      "A: Lift the lever under the seat to adjust the height of the office chair.\n",
      "--------------------------------------------------\n",
      "Prompt: Q: Where do I find the user manual for the washing machine?\n",
      "A:\n",
      "Q: Where do I find the user manual for the washing machine?\n",
      "A: The user manual for the washing machine is stored in the top drawer of the cabinet next to the laundry room.\n",
      "--------------------------------------------------\n",
      "Prompt: Q: What should I do if the dishwasher is leaking?\n",
      "A:\n",
      "Q: What should I do if the dishwasher is leaking?\n",
      "A: Check the door seal for any damage, clean the filter, and ensure the drain hose is connected properly. If the issue persists, call for a technician.\n",
      "--------------------------------------------------\n",
      "Prompt: Q: How do I turn on the outdoor sprinkler system?\n",
      "A:\n",
      "Q: How do I turn on the outdoor sprinkler system?\n",
      "A: Turn the valve on the water supply and press the start button on the control panel to begin the watering cycle.\n",
      "--------------------------------------------------\n",
      "Prompt: Q: What should I do if the water heater is not heating?\n",
      "A:\n",
      "Q: What should I do if the water heater is not heating?\n",
      "A: Check the thermostat settings on the water heater. If it's set correctly, check the circuit breaker or call a professional for repairs.\n",
      "--------------------------------------------------\n"
     ]
    }
   ],
   "source": [
    "import openai\n",
    "\n",
    "# Replace with your fine-tuned model ID\n",
    "fine_tuned_model = 'ft:gpt-3.5-turbo-0125:personal::AVrKz1JZ'\n",
    "\n",
    "# Questions from the dataset\n",
    "questions = [\n",
    "    \"How do I change the air filter in the HVAC system?\",\n",
    "    \"What is the password for the guest Wi-Fi?\",\n",
    "    \"How can I remove pet hair from the couch?\",\n",
    "    \"Where are the spare lightbulbs?\",\n",
    "    \"How do I change the batteries in the remote?\",\n",
    "    \"Where can I find the first aid kit?\",\n",
    "    \"What time does the local grocery store close?\",\n",
    "    \"How do I clean the oven?\",\n",
    "    \"How do I adjust the height of the office chair?\",\n",
    "    \"Where do I find the user manual for the washing machine?\",\n",
    "    \"What should I do if the dishwasher is leaking?\",\n",
    "    \"How do I turn on the outdoor sprinkler system?\",\n",
    "    \"What should I do if the water heater is not heating?\"\n",
    "]\n",
    "\n",
    "# Loop through each question to get responses from the fine-tuned model\n",
    "for question in questions:\n",
    "    prompt = f\"Q: {question}\\nA:\"\n",
    "    print(\"Prompt:\", prompt)\n",
    "\n",
    "    # Send the request to the fine-tuned model\n",
    "    response = client.chat.completions.create(\n",
    "        model=fine_tuned_model,\n",
    "        messages=[\n",
    "            {\"role\": \"system\", \"content\": \"You are a helpful assistant providing accurate answers to household-related queries.\"},\n",
    "            {\"role\": \"user\", \"content\": prompt},\n",
    "        ],\n",
    "    )\n",
    "\n",
    "    # Extract and print the completion (response structure update)\n",
    "    answer = response.choices[0].message.content.strip() # This may need to be updated depending on the response format\n",
    "    print(f\"Q: {question}\")\n",
    "    print(f\"A: {answer}\")\n",
    "    print(\"-\" * 50)\n"
   ]
  }
 ],
 "metadata": {
  "colab": {
   "provenance": []
  },
  "kernelspec": {
   "display_name": "Python 3",
   "name": "python3"
  },
  "language_info": {
   "name": "python"
  }
 },
 "nbformat": 4,
 "nbformat_minor": 0
}
